{
 "cells": [
  {
   "cell_type": "code",
   "execution_count": null,
   "id": "f81301b8-c21f-4dae-aa05-4ba6c5d29669",
   "metadata": {
    "tags": []
   },
   "outputs": [],
   "source": [
    "import boto3\n",
    "import json\n",
    "import pandas as pd"
   ]
  },
  {
   "cell_type": "code",
   "execution_count": null,
   "id": "74774bec-d133-4995-98e4-f5055ac8d497",
   "metadata": {
    "tags": []
   },
   "outputs": [],
   "source": [
    "this_session = boto3.session.Session()\n",
    "this_region = this_session.region_name\n",
    "translate = boto3.client(service_name='translate', region_name=this_region)"
   ]
  },
  {
   "cell_type": "code",
   "execution_count": null,
   "id": "0a20c8c0-4b98-4413-a60c-0042049af4ab",
   "metadata": {
    "tags": []
   },
   "outputs": [],
   "source": [
    "f = open(\"example.txt\", \"r\")\n",
    "example_text = f.read()\n",
    "\n",
    "language_code_df = pd.read_csv('language_codes.csv')\n",
    "language_code_df.columns\n",
    "l_c = list(zip(language_code_df.Language, language_code_df['Language code']))"
   ]
  },
  {
   "cell_type": "code",
   "execution_count": null,
   "id": "a8e76dc3-966b-4255-9996-1b855f3975be",
   "metadata": {
    "tags": []
   },
   "outputs": [],
   "source": [
    "errors = []\n",
    "for i in l_c:\n",
    "    try:\n",
    "        result = translate.translate_text(Text=example_text, SourceLanguageCode=\"en\", TargetLanguageCode=i[1])\n",
    "        print('TranslatedText: ' + result.get('TranslatedText'))\n",
    "        print('SourceLanguageCode: ' + result.get('SourceLanguageCode'))\n",
    "        print(f'TargetLanguage: {i[0]}')\n",
    "    except Exception as e:\n",
    "        errors.append(e)\n",
    "        pass"
   ]
  },
  {
   "cell_type": "code",
   "execution_count": null,
   "id": "9c12ee3c-89b1-47ff-ad03-fa841aa66771",
   "metadata": {},
   "outputs": [],
   "source": [
    "errors"
   ]
  },
  {
   "cell_type": "code",
   "execution_count": null,
   "id": "7c61783f-760c-4759-b1b9-48bc80d56290",
   "metadata": {},
   "outputs": [],
   "source": []
  }
 ],
 "metadata": {
  "kernelspec": {
   "display_name": "conda_python3",
   "language": "python",
   "name": "conda_python3"
  },
  "language_info": {
   "codemirror_mode": {
    "name": "ipython",
    "version": 3
   },
   "file_extension": ".py",
   "mimetype": "text/x-python",
   "name": "python",
   "nbconvert_exporter": "python",
   "pygments_lexer": "ipython3",
   "version": "3.10.10"
  }
 },
 "nbformat": 4,
 "nbformat_minor": 5
}
