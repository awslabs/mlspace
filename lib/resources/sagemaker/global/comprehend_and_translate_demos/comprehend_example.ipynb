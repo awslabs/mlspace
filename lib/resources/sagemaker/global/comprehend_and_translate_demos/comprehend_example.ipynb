{
 "cells": [
  {
   "cell_type": "code",
   "execution_count": null,
   "id": "f81301b8-c21f-4dae-aa05-4ba6c5d29669",
   "metadata": {
    "tags": []
   },
   "outputs": [],
   "source": [
    "import boto3\n",
    "import json"
   ]
  },
  {
   "cell_type": "code",
   "execution_count": null,
   "id": "74774bec-d133-4995-98e4-f5055ac8d497",
   "metadata": {
    "tags": []
   },
   "outputs": [],
   "source": [
    "this_session = boto3.session.Session()\n",
    "this_region = this_session.region_name\n",
    "comprehend = boto3.client(service_name='comprehend', region_name=this_region)"
   ]
  },
  {
   "cell_type": "code",
   "execution_count": null,
   "id": "0a20c8c0-4b98-4413-a60c-0042049af4ab",
   "metadata": {
    "tags": []
   },
   "outputs": [],
   "source": [
    "f = open(\"example.txt\", \"r\")\n",
    "example_text = f.read()"
   ]
  },
  {
   "cell_type": "markdown",
   "id": "aaff646c-266e-455a-bbc6-2360a9ad03d7",
   "metadata": {},
   "source": [
    "### Input Text"
   ]
  },
  {
   "cell_type": "code",
   "execution_count": null,
   "id": "0ae46532-ea5b-4b6c-b0f6-75e525ee3ae8",
   "metadata": {
    "tags": []
   },
   "outputs": [],
   "source": [
    "print(example_text)"
   ]
  },
  {
   "cell_type": "markdown",
   "id": "74297102-e8b9-48f1-b762-a3a509d8f1ad",
   "metadata": {},
   "source": [
    "### Detecting the dominant language using the AWS SDK for Python (Boto)"
   ]
  },
  {
   "cell_type": "code",
   "execution_count": null,
   "id": "9fb0bf19-a56c-4fd4-8473-585bfcff26ea",
   "metadata": {
    "tags": []
   },
   "outputs": [],
   "source": [
    "\n",
    "print('Calling DetectDominantLanguage')\n",
    "print(json.dumps(comprehend.detect_dominant_language(Text = example_text), sort_keys=True, indent=4))\n",
    "print(\"End of DetectDominantLanguage\\n\")\n"
   ]
  },
  {
   "cell_type": "markdown",
   "id": "94f3aca3-95bf-4d6e-b8e0-89c5500f8801",
   "metadata": {},
   "source": [
    "### Detecting named entities using the AWS SDK for Python (Boto)"
   ]
  },
  {
   "cell_type": "code",
   "execution_count": null,
   "id": "81d7ed21-dea4-4bd1-a675-9dcb3e99d392",
   "metadata": {
    "tags": []
   },
   "outputs": [],
   "source": [
    "print('Calling DetectEntities')\n",
    "print(json.dumps(comprehend.detect_entities(Text=example_text, LanguageCode='en'), sort_keys=True, indent=4))\n",
    "print('End of DetectEntities\\n')"
   ]
  },
  {
   "cell_type": "markdown",
   "id": "5a83bfe8-91f4-48c8-b5d2-f4eb5a1eb91a",
   "metadata": {},
   "source": [
    "### Detecting key phrases using the AWS SDK for Python (Boto)"
   ]
  },
  {
   "cell_type": "code",
   "execution_count": null,
   "id": "f836306d-cf9d-4dba-81f9-c54c66118f32",
   "metadata": {
    "tags": []
   },
   "outputs": [],
   "source": [
    "print('Calling DetectKeyPhrases')\n",
    "print(json.dumps(comprehend.detect_key_phrases(Text=example_text, LanguageCode='en'), sort_keys=True, indent=4))\n",
    "print('End of DetectKeyPhrases\\n')"
   ]
  },
  {
   "cell_type": "markdown",
   "id": "89a760d1-8e25-4a2a-ba8a-bfa050862ac3",
   "metadata": {},
   "source": [
    "### Determining sentiment using the AWS SDK for Python (Boto)"
   ]
  },
  {
   "cell_type": "code",
   "execution_count": null,
   "id": "e9a48e91-68f9-42d8-95a4-0c7c21d52d1c",
   "metadata": {
    "tags": []
   },
   "outputs": [],
   "source": [
    "print('Calling DetectSentiment')\n",
    "print(json.dumps(comprehend.detect_sentiment(Text=example_text, LanguageCode='en'), sort_keys=True, indent=4))\n",
    "print('End of DetectSentiment\\n')"
   ]
  },
  {
   "cell_type": "markdown",
   "id": "1fb4fd77-f8be-451e-8950-ec35ecc57192",
   "metadata": {},
   "source": [
    "### Detecting parts of speech using the AWS SDK for Python (Boto)"
   ]
  },
  {
   "cell_type": "code",
   "execution_count": null,
   "id": "5ec6be72-3c49-44c0-a4a7-53b098514fd0",
   "metadata": {},
   "outputs": [],
   "source": [
    "print('Calling DetectSyntax')\n",
    "print(json.dumps(comprehend.detect_syntax(Text=example_text, LanguageCode='en'), sort_keys=True, indent=4))\n",
    "print('End of DetectSyntax\\n')"
   ]
  },
  {
   "cell_type": "markdown",
   "id": "f970345f-e58b-415c-bbbb-f02539b75142",
   "metadata": {},
   "source": [
    "### Detecting targeted sentiment using the AWS SDK for Python (Boto)"
   ]
  },
  {
   "cell_type": "code",
   "execution_count": null,
   "id": "ef6a0a2a-95df-492a-9a57-2edbf0b5ed63",
   "metadata": {
    "tags": []
   },
   "outputs": [],
   "source": [
    "print('Calling DetectSentiment')\n",
    "print(json.dumps(comprehend.detect_targeted_sentiment(Text=example_text, LanguageCode='en'), sort_keys=True, indent=4))\n",
    "print('End of DetectSentiment\\n')"
   ]
  },
  {
   "cell_type": "code",
   "execution_count": null,
   "id": "da954b29-a33b-49cb-95bb-109b36835a5c",
   "metadata": {
    "jupyter": {
     "source_hidden": true
    },
    "tags": []
   },
   "outputs": [],
   "source": []
  }
 ],
 "metadata": {
  "kernelspec": {
   "display_name": "conda_python3",
   "language": "python",
   "name": "conda_python3"
  },
  "language_info": {
   "codemirror_mode": {
    "name": "ipython",
    "version": 3
   },
   "file_extension": ".py",
   "mimetype": "text/x-python",
   "name": "python",
   "nbconvert_exporter": "python",
   "pygments_lexer": "ipython3",
   "version": "3.10.10"
  }
 },
 "nbformat": 4,
 "nbformat_minor": 5
}
