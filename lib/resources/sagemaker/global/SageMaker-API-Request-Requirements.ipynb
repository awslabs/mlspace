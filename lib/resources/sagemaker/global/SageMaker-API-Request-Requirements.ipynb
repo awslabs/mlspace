{
    "cells": [
        {
            "cell_type": "markdown",
            "metadata": {},
            "source": [
                "# SageMaker API Request Requirements\n",
                "\n",
                "**Purpose:** Details how SageMaker API calls must be formatted to run successfully in the SageMakerSpace (SMS) environment. \n",
                "\n",
                "**Author(s):** AWS Professional Services\n",
                "\n",
                "**Version:** 1.0\n",
                "\n",
                "**Status:** Active development\n",
                "\n",
                "**Copyright:** #  (c) 2021 Amazon Web Services, Inc. All Rights Reserved. This AWS Content is subject to the terms of the Basic Ordering Agreement Contract No. 2018-17120800001/Order No.026."
            ]
        },
        {
            "cell_type": "markdown",
            "metadata": {},
            "source": [
                "## Execution Role"
            ]
        },
        {
            "cell_type": "markdown",
            "metadata": {},
            "source": [
                "SageMaker notebook instances are assigned an execution role that authorizes access to AWS resources and APIs. You can access the execution role for your notebook instance with the following code:"
            ]
        },
        {
            "cell_type": "code",
            "execution_count": null,
            "metadata": {},
            "outputs": [],
            "source": [
                "import sagemaker\n",
                "from sagemaker import get_execution_role\n",
                "sagemaker_session = sagemaker.Session()\n",
                "role = sagemaker.get_execution_role()\n",
                "print(role)"
            ]
        },
        {
            "cell_type": "markdown",
            "metadata": {},
            "source": [
                "The IAM role ARN provided by the commands above should be provided to any SageMaker APIs that require an IAM role to be provided as a parameter. For SMS, this includes the following APIs:\n",
                "\n",
                "* CreateHyperParameterTuningJob\n",
                "* CreateImage\n",
                "* CreateModel\n",
                "* CreateProcessingJob\n",
                "* CreateTrainingJob\n",
                "\n"
            ]
        },
        {
            "cell_type": "markdown",
            "metadata": {},
            "source": [
                "## Resource Tags"
            ]
        },
        {
            "cell_type": "markdown",
            "metadata": {},
            "source": [
                "You can assign metadata to your AWS resources in the form of tags. Each tag is a label consisting of a user-defined key and value. Tags can help you manage, identify, organize, search for, and filter resources. You can create tags to categorize resources by purpose, owner, environment, or other criteria.\n",
                "\n",
                "At a minimum, SMS requires you to attach the tags in the next cell to the following SageMaker Create APIs:\n",
                "* CreateModel\n",
                "* CreateEndpointConfig\n",
                "* CreateEndpoint\n",
                "* CreateTrainingJob\n",
                "* CreateProcessingJob\n",
                "* CreateHyperParameterTuningJob\n",
                "* CreateTransformJob\n",
                "\n",
                "This ensures that the SageMaker resources created from the notebook instance are present in the SMS UI and are tracked through your organization's cost allocation tags. Your formatted user DN can be found by selecting the **Copy Formatted Username** button in the notebooks page."
            ]
        },
        {
            "cell_type": "code",
            "execution_count": null,
            "metadata": {},
            "outputs": [],
            "source": [
                "# Example list of tags to include in SageMaker API calls by passing in as a parameter\n",
                "tags = [\n",
                "    {\n",
                "        \"Key\": \"project\",\n",
                "        \"Value\": \"<project_name>\"\n",
                "    },\n",
                "    {\n",
                "        \"Key\": \"system\",\n",
                "        \"Value\": \"SMS\"\n",
                "    },\n",
                "    {\n",
                "        \"Key\": \"user\",\n",
                "        \"Value\": \"<formatted_user_dn>\"\n",
                "    },\n",
                "    {\n",
                "        \"Key\": \"Environment\",\n",
                "        \"Value\": \"<env_name_from_notebook_params>\"\n",
                "    }\n",
                "]"
            ]
        },
        {
            "cell_type": "markdown",
            "metadata": {},
            "source": [
                "## Additional Required Parameters"
            ]
        },
        {
            "cell_type": "markdown",
            "metadata": {},
            "source": [
                "There are explicit denies for SageMaker API requests that don’t include the following parameters:\n",
                "\n",
                "* CreateHyperParameterTuningJob\n",
                "    * Tags (see above), VpcSubnets, VpcSecurityGroupIds, VolumeKmsKey\n",
                "* CreateModel\n",
                "    * Tags (see above), VpcSubnets, and VpcSecurityGroupIds\n",
                "* CreateProcessingJob\n",
                "    * Tags (see above), VpcSubnets, VpcSecurityGroupIds, VolumeKmsKey\n",
                "* CreateTrainingJob\n",
                "    * Tags (see above), VpcSubnets, VpcSecurityGroupIds, VolumeKmsKey\n",
                "* CreateTransformJob\n",
                "    * Tags (see above), VolumeKmsKey\n",
                "* CreateEndpointConfig\n",
                "    * Tags (see above), VolumeKmsKey\n",
                "* CreateEndpoint\n",
                "    * Tags (see above)\n",
                "\n"
            ]
        },
        {
            "cell_type": "code",
            "execution_count": null,
            "metadata": {},
            "outputs": [],
            "source": [
                "# Read in the notebook parameters file\n",
                "import json\n",
                "with open ('/home/ec2-user/SageMaker/global-resources/notebook-params.json', 'r') as fh:\n",
                "    input_data = fh.read()\n",
                "    sagemaker_parameters = json.loads(input_data)\n",
                "print(json.dumps(sagemaker_parameters,indent=2))"
            ]
        },
        {
            "cell_type": "code",
            "execution_count": null,
            "metadata": {},
            "outputs": [],
            "source": [
                "# You can now provide these parameters to each SageMaker API call as needed\n",
                "VolumeKmsKey = sagemaker_parameters['pSMSKMSKeyId']\n",
                "print(VolumeKmsKey)"
            ]
        }
    ],
    "metadata": {
        "kernelspec": {
            "display_name": "conda_python3",
            "language": "python",
            "name": "conda_python3"
        },
        "language_info": {
            "codemirror_mode": {
                "name": "ipython",
                "version": 3
            },
            "file_extension": ".py",
            "mimetype": "text/x-python",
            "name": "python",
            "nbconvert_exporter": "python",
            "pygments_lexer": "ipython3",
            "version": "3.6.10"
        }
    },
    "nbformat": 4,
    "nbformat_minor": 4
}