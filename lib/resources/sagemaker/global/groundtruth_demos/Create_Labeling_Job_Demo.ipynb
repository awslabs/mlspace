{
 "cells": [
  {
   "cell_type": "markdown",
   "id": "e87cd7a5-6a61-485d-a7ab-e17711427126",
   "metadata": {},
   "source": [
    "# Create Labeling Job Demo\n",
    "\n",
    "In this Jupyter Notebook, we will explore the workflow of labeling raw data with Ground Truth, which can later be used in SageMaker Training Jobs.\n",
    "\n",
    "## Assumptions\n",
    "\n",
    "Before we begin, we are expecting the following to exist and be accessible by the user of this Notebook:\n",
    "1. A workforce with a workteam for labeling data already exists. We will utilize the workteam for our labeling tasks. For this demo, all we need is the workteam's name. An administrator must make this workteam via the SageMaker Ground Truth API. A documentation link will be provided in the last cell of the \"Initial Setup\" section if the specified workteam name does not exist.\n",
    "\n",
    "## Initial Setup\n",
    "Replace the following variables for your username and MLSpace project so that this demo can use them for Labeling Job tags and for writing to a private dataset"
   ]
  },
  {
   "cell_type": "code",
   "execution_count": null,
   "id": "5935dfca-1f70-493b-a914-f8bb9d460ea2",
   "metadata": {},
   "outputs": [],
   "source": [
    "# Set the existing workteam name\n",
    "workteam = 'CHANGE_ME_TO_WORKTEAM_NAME'\n",
    "\n",
    "# MLSpace variables\n",
    "username = 'CHANGE_ME_TO_CURRENT_USER_NAME'\n",
    "project = 'CHANGE_ME_TO_CURRENT_PROJECT_NAME'"
   ]
  },
  {
   "cell_type": "markdown",
   "id": "4d7b2cf6-1fc8-475c-9fe5-9a011d25a39f",
   "metadata": {},
   "source": [
    "Next, we'll import all the libraries we are going to use in this demo"
   ]
  },
  {
   "cell_type": "code",
   "execution_count": null,
   "id": "ce84b888-daea-46f9-9c8d-77c0403ec450",
   "metadata": {
    "tags": []
   },
   "outputs": [],
   "source": [
    "# import everything we'll use in this demo\n",
    "import json\n",
    "import os\n",
    "import pickle\n",
    "import time\n",
    "import sagemaker\n",
    "\n",
    "from matplotlib.image import imsave\n",
    "from multiprocessing import Pool\n",
    "\n",
    "# local helper function file for retrieving Lambda ARNs that would\n",
    "# otherwise be provided by the SageMaker console\n",
    "from groundtruth_utils import (\n",
    "    get_documentation_domain,\n",
    "    get_groundtruth_assets_domain,\n",
    "    get_groundtruth_lambda_arn\n",
    ")"
   ]
  },
  {
   "cell_type": "markdown",
   "id": "8e538449-c875-4638-a1df-3b483ef089e3",
   "metadata": {},
   "source": [
    "After, let's get the MLSpace parameters, set a dataset location to store unlabeled data in, and set tags for setting up the labeling job."
   ]
  },
  {
   "cell_type": "code",
   "execution_count": null,
   "id": "8e11d82b-4f5a-433c-8e79-aabe19ecbfdb",
   "metadata": {
    "tags": []
   },
   "outputs": [],
   "source": [
    "# Retrieve MLSpace-provided parameters\n",
    "with open('/home/ec2-user/SageMaker/global-resources/notebook-params.json', 'r') as fp:\n",
    "    sagemaker_parameters = json.load(fp)\n",
    "data_bucket_name = sagemaker_parameters['pSMSDataBucketName']\n",
    "kms_key_id = sagemaker_parameters['pSMSKMSKeyId']\n",
    "\n",
    "# Pick the path for unlabeled data, relative to the data bucket root\n",
    "# We will place objects in a private Dataset for the current user\n",
    "unlabeled_dataset_key_prefix = f'private/{username}/datasets/mnistimages'\n",
    "unlabeled_dataset_uri = f's3://{data_bucket_name}/{unlabeled_dataset_key_prefix}'\n",
    "\n",
    "# Set up tags to allow our API calls to succeed\n",
    "tags = [\n",
    "    {\n",
    "        \"Key\": \"project\",\n",
    "        \"Value\": project\n",
    "    },\n",
    "    {\n",
    "        \"Key\": \"system\",\n",
    "        \"Value\": \"MLSpace\"\n",
    "    },\n",
    "    {\n",
    "        \"Key\": \"user\",\n",
    "        \"Value\": username\n",
    "    }\n",
    "]"
   ]
  },
  {
   "cell_type": "markdown",
   "id": "23e387ad-f099-49d1-a823-35520584a5ca",
   "metadata": {},
   "source": [
    "Next, we'll get the session details so we can start making API calls to SageMaker"
   ]
  },
  {
   "cell_type": "code",
   "execution_count": null,
   "id": "546b6e3b-0207-452a-9a5c-68bab513bf1a",
   "metadata": {
    "tags": []
   },
   "outputs": [],
   "source": [
    "# get role and service clients\n",
    "sagemaker_session = sagemaker.Session()\n",
    "role = sagemaker.get_execution_role()\n",
    "boto_session = sagemaker_session.boto_session\n",
    "region = sagemaker_session.boto_region_name\n",
    "partition = boto_session.get_partition_for_region(region)\n",
    "sagemaker_boto_client = boto_session.client(\n",
    "    'sagemaker', region_name=region)\n",
    "s3_boto_client = boto_session.client(\n",
    "    's3', region_name=region)\n",
    "\n",
    "# quick confirmation message\n",
    "print(f'Session loaded. We are using role \"{role}\" in region \"{region}\".')"
   ]
  },
  {
   "cell_type": "markdown",
   "id": "9080d6d7-05c3-47e4-93c7-3a115fe85972",
   "metadata": {},
   "source": [
    "And one last step: let's validate that we have access to the workteam before using it in the labeling job."
   ]
  },
  {
   "cell_type": "code",
   "execution_count": null,
   "id": "54a07532-ed5c-43ba-9c20-1aff1de21ca3",
   "metadata": {
    "tags": []
   },
   "outputs": [],
   "source": [
    "# Print out workteam information just to make sure it exists\n",
    "try:\n",
    "    workteam_info = sagemaker_boto_client.describe_workteam(WorkteamName=workteam)\n",
    "    workteam_arn = workteam_info[\"Workteam\"][\"WorkteamArn\"]\n",
    "    workteam_portal = f\"https://{workteam_info['Workteam']['SubDomain']}\"\n",
    "    print(f\"Workteam exists. Labeling portal can be found at: {workteam_portal}\")\n",
    "except:\n",
    "    print(\"Found an error when describing the workteam. Please have an administrator set up a workteam for you with the following documentation link:\\n\"\n",
    "         + f\"https://{get_documentation_domain(partition)}/sagemaker/latest/dg/sms-workforce-create-private-oidc.html\")"
   ]
  },
  {
   "cell_type": "markdown",
   "id": "5d20f9ca-c753-4d37-b499-54e7fca99bb1",
   "metadata": {},
   "source": [
    "## Data Preparation\n",
    "\n",
    "Now, we'll grab the MNIST dataset from the SageMaker examples. It's already in a binary format, which we *don't* want for this demo, so we're going to convert everything to PNG images and store them in S3.\n",
    "Just so we don't try to generate the dataset multiple times, we'll check to see if a specific local directory exists, otherwise we'll create everything. If you want to regenerate the dataset anyways, simply delete the \"images' directory created by this notebook."
   ]
  },
  {
   "cell_type": "code",
   "execution_count": null,
   "id": "b691f675-0ca2-4902-b52c-872254db531d",
   "metadata": {
    "tags": []
   },
   "outputs": [],
   "source": [
    "# for demo purposes, let's keep the job small so we can\n",
    "# actually finish it in a reasonable amount of time.\n",
    "# use 60000 for the full dataset.\n",
    "num_images_in_labeling_job = 50\n",
    "\n",
    "# check if we've already generated the dataset before\n",
    "# assume we generated files already if we have the 'images' directory locally\n",
    "should_generate_dataset = True\n",
    "try:\n",
    "    os.mkdir('images')\n",
    "except FileExistsError:\n",
    "    print('The \"images\" directory exists already. Skipping dataset generation.')\n",
    "    should_generate_dataset = False\n",
    "\n",
    "if should_generate_dataset:  # skip if we already generated the files\n",
    "    s3_response = s3_boto_client.get_object(Bucket=\"sagemaker-sample-files\",\n",
    "                                            Key=\"datasets/image/MNIST/mnist.pkl\")\n",
    "    mnist_dataset = pickle.loads(s3_response[\"Body\"].read())\n",
    "    train_set = mnist_dataset[0]\n",
    "\n",
    "    def save_and_upload_image(sample_number):\n",
    "        local_filename = f\"./images/{sample_number:05}.jpg\"\n",
    "        s3_key = f'{unlabeled_dataset_key_prefix}/raw_images/{sample_number:05}.jpg'\n",
    "        imsave(local_filename, train_set[0][sample_number][0], cmap='gray')\n",
    "        with open(local_filename, 'rb') as image_f:\n",
    "            s3_boto_client.put_object(Bucket=data_bucket_name,\n",
    "                                      Key=s3_key,\n",
    "                                      Body=image_f)\n",
    "\n",
    "    with Pool() as pool:\n",
    "        # save and upload images in parallel to speed this step up\n",
    "        pool.map(save_and_upload_image, range(num_images_in_labeling_job))"
   ]
  },
  {
   "cell_type": "markdown",
   "id": "f7d00820-feef-4355-aee8-fc58209dfdc1",
   "metadata": {},
   "source": [
    "Now that we have the entire dataset saved as images, we can start a human labeling job. Even though MNIST is already annotated, this example will show how we can annotate it ourselves using Ground Truth. The following cell will generate a manifest file based on the number of images we uploaded to S3 earlier."
   ]
  },
  {
   "cell_type": "code",
   "execution_count": null,
   "id": "9cd6d556-1776-41fc-b2e9-dac06a552da8",
   "metadata": {
    "tags": []
   },
   "outputs": [],
   "source": [
    "# Printing documentation link as separate line to get the dynamic link depending on partition\n",
    "print(f\"Documentation for the manifest format can be found here: https://{get_documentation_domain(partition)}/sagemaker/latest/dg/sms-input-data-input-manifest.html\")"
   ]
  },
  {
   "cell_type": "code",
   "execution_count": null,
   "id": "6110dc5b-55e7-49ca-b61d-29a069a53331",
   "metadata": {
    "tags": []
   },
   "outputs": [],
   "source": [
    "manifest_lines = [\n",
    "    f'{{\"source-ref\":\"{unlabeled_dataset_uri}/raw_images/{x:05}.jpg\"}}\\n' for x in range(num_images_in_labeling_job)\n",
    "]\n",
    "\n",
    "# Upload the manifest to S3\n",
    "s3_boto_client.put_object(Bucket=data_bucket_name,\n",
    "                          Key=f'{unlabeled_dataset_key_prefix}/mnist_images.manifest',\n",
    "                          Body=\"\".join(manifest_lines))"
   ]
  },
  {
   "cell_type": "markdown",
   "id": "a0958da1-02f4-4032-a756-0d4ad205d795",
   "metadata": {},
   "source": [
    "Next, we'll generate a list of labels for our dataset. Conveniently, MNIST is just the numbers 0-9. To allow the labels to match the Ground Truth Labeling Portal's keyboard shortcuts, we'll place the \"0\" label last."
   ]
  },
  {
   "cell_type": "code",
   "execution_count": null,
   "id": "b5369eb0-aae3-4d80-be8f-98a1da24f737",
   "metadata": {
    "tags": []
   },
   "outputs": [],
   "source": [
    "# Generate labels configuration file\n",
    "labels = [\n",
    "    {\"label\": str(x+1)} for x in range(9)\n",
    "]\n",
    "labels.append({\"label\": \"0\"})  # 1-9, 0 to match keyboard shortcuts in GT Labeling Portal\n",
    "\n",
    "labels_config = {\n",
    "    \"document-version\": \"2018-11-28\",\n",
    "    \"labels\": labels\n",
    "}\n",
    "\n",
    "# Upload label categories to S3\n",
    "s3_boto_client.put_object(Bucket=data_bucket_name,\n",
    "                          Key=f'{unlabeled_dataset_key_prefix}/label_categories.json',\n",
    "                          Body=json.dumps(labels_config))"
   ]
  },
  {
   "cell_type": "code",
   "execution_count": null,
   "id": "2c4b7d1f-4977-403f-9c85-9d8ce9f8bc41",
   "metadata": {
    "tags": []
   },
   "outputs": [],
   "source": [
    "# Print as code cell for dynamic docs link based on partition\n",
    "print(f\"From the documentation here (https://{get_documentation_domain(partition)}/sagemaker/latest/dg/sms-image-classification.html), we need to upload an HTML page for our users to access.\\n\"\n",
    "      + \"Below is the page provided from the docs with modifications to make it work in different partitions, and we'll upload that to our S3 bucket\")"
   ]
  },
  {
   "cell_type": "code",
   "execution_count": null,
   "id": "95afe92d-595a-445d-a628-bed71e2878ef",
   "metadata": {
    "tags": []
   },
   "outputs": [],
   "source": [
    "labeling_portal_html = f'<script src=\"https://{get_groundtruth_assets_domain(region)}/crowd-html-elements.js\"></script>'\n",
    "labeling_portal_html += \"\"\"\n",
    "<crowd-form>\n",
    "  <crowd-image-classifier\n",
    "    name=\"crowd-image-classifier\"\n",
    "    src=\"{{ task.input.taskObject | grant_read_access }}\"\n",
    "    header=\"please classify\"\n",
    "    categories=\"{{ task.input.labels | to_json | escape }}\"\n",
    "  >\n",
    "    <full-instructions header=\"Image classification instructions\">\n",
    "      <ol><li><strong>Read</strong> the task carefully and inspect the image.</li>\n",
    "      <li><strong>Read</strong> the options and review the examples provided to understand more about the labels.</li>\n",
    "      <li><strong>Choose</strong> the appropriate label that best suits the image.</li></ol>\n",
    "    </full-instructions>\n",
    "    <short-instructions>\n",
    "      <h3><span style=\"color: rgb(0, 138, 0);\">Good example</span></h3>\n",
    "      <p>Enter description to explain the correct label to the workers</p>\n",
    "      <h3><span style=\"color: rgb(230, 0, 0);\">Bad example</span></h3><p>Enter description of an incorrect label</p>\n",
    "    </short-instructions>\n",
    "  </crowd-image-classifier>\n",
    "</crowd-form>\n",
    "\"\"\"\n",
    "\n",
    "s3_boto_client.put_object(Bucket=data_bucket_name,\n",
    "                          Key=f'{unlabeled_dataset_key_prefix}/task_template.html',\n",
    "                          Body=labeling_portal_html)"
   ]
  },
  {
   "cell_type": "markdown",
   "id": "10cc54fb-32ef-439f-9af1-944c3e501fe0",
   "metadata": {},
   "source": [
    "## Starting the Labeling Job\n",
    "\n",
    "Now that we've prepared the data and supporting configuration files, we can create the labeling job. The following cell will define all the parameters that we need for this demonstration. The included file \"groundtruth_utils.py\" provides a convenience function for getting Ground Truth-provided Lambda ARNs needed in the StartLabelingJob API call."
   ]
  },
  {
   "cell_type": "code",
   "execution_count": null,
   "id": "0ae68ee4-47e8-4a94-bb8c-975ce1120ad7",
   "metadata": {},
   "outputs": [],
   "source": [
    "labeling_job_name = f\"mlspace-gt-labeling-demo-{project}-{username}-{int(time.time())}\"\n",
    "labeling_job_params = {\n",
    "    \"LabelingJobName\": labeling_job_name,\n",
    "    \"LabelAttributeName\": \"label\",\n",
    "    \"InputConfig\": {\n",
    "        \"DataSource\": {\n",
    "            \"S3DataSource\": {\n",
    "                \"ManifestS3Uri\": f\"{unlabeled_dataset_uri}/mnist_images.manifest\"\n",
    "            }\n",
    "        }\n",
    "    },\n",
    "    \"OutputConfig\": {\n",
    "        \"KmsKeyId\": kms_key_id,\n",
    "        \"S3OutputPath\": f\"{unlabeled_dataset_uri}/labeling_job_output/\"\n",
    "    },\n",
    "    \"RoleArn\": role,\n",
    "    \"LabelCategoryConfigS3Uri\": f\"{unlabeled_dataset_uri}/label_categories.json\",\n",
    "    \"HumanTaskConfig\": {\n",
    "        \"WorkteamArn\": workteam_arn,\n",
    "        \"PreHumanTaskLambdaArn\": get_groundtruth_lambda_arn(\"PRE\", \"ImageMultiClass\", boto_session),\n",
    "        \"UiConfig\": {\n",
    "            \"UiTemplateS3Uri\": f\"{unlabeled_dataset_uri}/task_template.html\"\n",
    "        },\n",
    "        \"TaskTitle\": \"MLSpace Demo Labeling Job\",\n",
    "        \"TaskDescription\": \"Example demo for labeling hand-written digits\",\n",
    "        \"NumberOfHumanWorkersPerDataObject\": 1,\n",
    "        \"TaskTimeLimitInSeconds\": 3600,\n",
    "        \"AnnotationConsolidationConfig\": {\n",
    "            \"AnnotationConsolidationLambdaArn\": get_groundtruth_lambda_arn(\"ACS\", \"ImageMultiClass\", boto_session)\n",
    "        }\n",
    "    },\n",
    "    \"Tags\": tags\n",
    "}"
   ]
  },
  {
   "cell_type": "code",
   "execution_count": null,
   "id": "4d2bee6a-3430-45d5-8007-4338c5174137",
   "metadata": {
    "tags": []
   },
   "outputs": [],
   "source": [
    "# And finally, start the labeling job!\n",
    "resp = sagemaker_boto_client.create_labeling_job(**labeling_job_params)"
   ]
  },
  {
   "cell_type": "markdown",
   "id": "f3f0cf54-9b37-4703-912e-1b04f25d84cb",
   "metadata": {},
   "source": [
    "With the job submitted, users within the Workteam can access the labeling job from the following url. Once the job is finished or fails it will disappear from the portal. To access the labeling portal, members of the workteam must sign in with the identity provider used to create the workteam in the first place."
   ]
  },
  {
   "cell_type": "code",
   "execution_count": null,
   "id": "cde1a044-a18d-45e3-93ce-67d073c9fba6",
   "metadata": {
    "tags": []
   },
   "outputs": [],
   "source": [
    "print(f'To access available labeling jobs, click here: {workteam_portal}')"
   ]
  },
  {
   "cell_type": "markdown",
   "id": "2eb017f5-9da3-4a35-aca9-8cb933ca8475",
   "metadata": {},
   "source": [
    "## Describing the job\n",
    "After submitting the job, the following cell will print out information about the job, such as job status, number of objects to label, and number of objects already labeled. You can rerun it multiple times to get an updated status report on the job."
   ]
  },
  {
   "cell_type": "code",
   "execution_count": null,
   "id": "7713ecd6-4e50-44de-96ac-f61282693b25",
   "metadata": {
    "pycharm": {
     "name": "#%%\n"
    },
    "tags": []
   },
   "outputs": [],
   "source": [
    "# Rerun this cell to describe the job as it progresses\n",
    "sagemaker_boto_client.describe_labeling_job(LabelingJobName=labeling_job_name)"
   ]
  }
 ],
 "metadata": {
  "kernelspec": {
   "display_name": "conda_python3",
   "language": "python",
   "name": "conda_python3"
  },
  "language_info": {
   "codemirror_mode": {
    "name": "ipython",
    "version": 3
   },
   "file_extension": ".py",
   "mimetype": "text/x-python",
   "name": "python",
   "nbconvert_exporter": "python",
   "pygments_lexer": "ipython3",
   "version": "3.10.12"
  }
 },
 "nbformat": 4,
 "nbformat_minor": 5
}